{
 "cells": [
  {
   "cell_type": "code",
   "execution_count": 1,
   "metadata": {},
   "outputs": [],
   "source": [
    "import numpy as np\n",
    "import matplotlib.pyplot as plt"
   ]
  },
  {
   "cell_type": "code",
   "execution_count": 2,
   "metadata": {},
   "outputs": [
    {
     "data": {
      "text/plain": [
       "(4033, 4033)"
      ]
     },
     "execution_count": 2,
     "metadata": {},
     "output_type": "execute_result"
    }
   ],
   "source": [
    "Ng = 64 #number of points\n",
    "LL = 1.0#2 * np.pi #interval of data\n",
    "\n",
    "\n",
    "k = np.asarray(list(np.arange(0, Ng // 2,1/Ng)) + [0] + list(np.arange(-Ng // 2 + 1,0,1/Ng)))\n",
    "[Kx,Ky]=np.array( np.meshgrid ( k , k ,indexing ='ij') , dtype = int )\n",
    "\n",
    "f = lambda x: np.sin((2*np.pi/LL)*x)\n",
    "df_analytical = lambda x: (2*np.pi/LL)*np.cos((2*np.pi/LL)*x)\n",
    "\n",
    "f(Kx).shape\n"
   ]
  },
  {
   "cell_type": "code",
   "execution_count": 3,
   "metadata": {},
   "outputs": [
    {
     "data": {
      "text/plain": [
       "(6.283185307179586, 6.283185307179586, 31, -31)"
      ]
     },
     "execution_count": 3,
     "metadata": {},
     "output_type": "execute_result"
    }
   ],
   "source": [
    "np.max(df_analytical(Kx)),np.min(df_analytical(Kx)),np.max(Kx),np.min(Kx)"
   ]
  },
  {
   "cell_type": "markdown",
   "metadata": {},
   "source": [
    "https://stackoverflow.com/questions/29189885/finding-the-derivative-of-a-2d-function-using-fft-properties"
   ]
  },
  {
   "cell_type": "markdown",
   "metadata": {},
   "source": [
    "https://math.stackexchange.com/questions/1473277/taking-partial-derivative-via-fourier-transform-using-matlab"
   ]
  },
  {
   "cell_type": "code",
   "execution_count": 4,
   "metadata": {},
   "outputs": [
    {
     "data": {
      "text/plain": [
       "1.2434497875801753e-14"
      ]
     },
     "execution_count": 4,
     "metadata": {},
     "output_type": "execute_result"
    }
   ],
   "source": [
    "# 1 D\n",
    "N = 64 #number of points\n",
    "L = 2 * np.pi #interval of data\n",
    "\n",
    "x = np.arange(0.0, L, L/float(N)) #this does not include the endpoint\n",
    "\n",
    "k=np.fft.fftfreq(N,1/N)\n",
    "#k= np.asarray(list(range(0, N // 2)) + [0] + list(range(-N // 2 + 1,0)))\n",
    "k = (2 * np.pi / L)*k\n",
    "\n",
    "X=x#X,Y = np.meshgrid ( x , x )\n",
    "data_spacedomain = np.sin(X*2*np.pi/L);\n",
    "dy_analytical=np.cos(X*2*np.pi/L)*2*np.pi/L\n",
    "#% Compute 2D FFT\n",
    "data_wavenumberdomain = np.fft.fftn(data_spacedomain);\n",
    "\n",
    "#% Compute grid of wavenumbers\n",
    "KX=k#KX, KY = np.meshgrid (k, k , indexing ='ij');\n",
    "\n",
    "#% Compute 2D derivative\n",
    "data_wavenumberdomain_differentiated =  1j*KX*data_wavenumberdomain; \n",
    "#% Convert back to space domain\n",
    "data_spacedomain_differentiated = np.real(np.fft.ifftn(data_wavenumberdomain_differentiated ));\n",
    "\n",
    "np.max(data_spacedomain_differentiated-dy_analytical)"
   ]
  },
  {
   "cell_type": "code",
   "execution_count": 5,
   "metadata": {},
   "outputs": [
    {
     "data": {
      "text/plain": [
       "2.7755575615628914e-14"
      ]
     },
     "execution_count": 5,
     "metadata": {},
     "output_type": "execute_result"
    }
   ],
   "source": [
    "# n D (2D)\n",
    "N = 128 #number of points\n",
    "L = 2 * np.pi #interval of data\n",
    "\n",
    "x = np.arange(0.0, L, L/float(N)) #this does not include the endpoint\n",
    "\n",
    "k=np.fft.fftfreq(N,1/N)\n",
    "k = (2 * np.pi / L)*k\n",
    "\n",
    "X,Y = np.meshgrid ( x , x )\n",
    "data_spacedomain = np.sin(X*2*np.pi/L);\n",
    "dy_analytical=np.cos(X*2*np.pi/L)*2*np.pi/L\n",
    "#% Compute 2D FFT\n",
    "data_wavenumberdomain = np.fft.fftn(data_spacedomain);\n",
    "\n",
    "#% Compute grid of wavenumbers\n",
    "KX, KY = np.meshgrid (k, k );\n",
    "\n",
    "#% Compute 2D derivative\n",
    "data_wavenumberdomain_differentiated =  1j*KX*data_wavenumberdomain; \n",
    "#% Convert back to space domain\n",
    "data_spacedomain_differentiated = np.real(np.fft.ifftn(data_wavenumberdomain_differentiated ));\n",
    "\n",
    "np.max(data_spacedomain_differentiated-dy_analytical)"
   ]
  },
  {
   "cell_type": "code",
   "execution_count": 6,
   "metadata": {},
   "outputs": [
    {
     "data": {
      "text/plain": [
       "2.7755575615628914e-14"
      ]
     },
     "execution_count": 6,
     "metadata": {},
     "output_type": "execute_result"
    }
   ],
   "source": [
    "# n D (3D)\n",
    "N = 128 #number of points\n",
    "L = 2 * np.pi #interval of data\n",
    "\n",
    "x = np.arange(0.0, L, L/float(N)) #this does not include the endpoint\n",
    "\n",
    "k=np.fft.fftfreq(N,1/N)\n",
    "k = (2 * np.pi / L)*k\n",
    "\n",
    "X,Y,Z = np.meshgrid ( x , x, x )\n",
    "data_spacedomain = np.sin(X*2*np.pi/L);\n",
    "dy_analytical=np.cos(X*2*np.pi/L)*2*np.pi/L\n",
    "#% Compute 2D FFT\n",
    "data_wavenumberdomain = np.fft.fftn(data_spacedomain);\n",
    "\n",
    "#% Compute grid of wavenumbers\n",
    "KX, KY, KZ = np.meshgrid (k, k, k );\n",
    "\n",
    "#% Compute 2D derivative\n",
    "data_wavenumberdomain_differentiated =  1j*KX*data_wavenumberdomain; \n",
    "#% Convert back to space domain\n",
    "data_spacedomain_differentiated = np.real(np.fft.ifftn(data_wavenumberdomain_differentiated ));\n",
    "\n",
    "np.max(data_spacedomain_differentiated-dy_analytical)"
   ]
  },
  {
   "cell_type": "code",
   "execution_count": 7,
   "metadata": {},
   "outputs": [
    {
     "data": {
      "image/png": "[encoded data removed]",
      "text/plain": [
       "<Figure size 432x288 with 1 Axes>"
      ]
     },
     "metadata": {
      "needs_background": "light"
     },
     "output_type": "display_data"
    }
   ],
   "source": [
    "plt.hist((data_spacedomain_differentiated-dy_analytical).ravel() )\n",
    "pass"
   ]
  }
 ],
 "metadata": {
  "kernelspec": {
   "display_name": "Python 3",
   "language": "python",
   "name": "python3"
  },
  "language_info": {
   "codemirror_mode": {
    "name": "ipython",
    "version": 3
   },
   "file_extension": ".py",
   "mimetype": "text/x-python",
   "name": "python",
   "nbconvert_exporter": "python",
   "pygments_lexer": "ipython3",
   "version": "3.6.8"
  }
 },
 "nbformat": 4,
 "nbformat_minor": 2
}
