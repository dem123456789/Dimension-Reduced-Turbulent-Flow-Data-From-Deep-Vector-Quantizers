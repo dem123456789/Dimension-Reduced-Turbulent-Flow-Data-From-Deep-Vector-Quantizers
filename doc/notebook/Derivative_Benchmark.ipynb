{
 "cells": [
  {
   "cell_type": "code",
   "execution_count": 325,
   "metadata": {},
   "outputs": [],
   "source": [
    "import numpy as np\n",
    "import matplotlib.pyplot as plt\n",
    "import torch\n",
    "import torch.nn.functional as F\n",
    "import collections.abc as container_abcs\n",
    "from itertools import repeat"
   ]
  },
  {
   "cell_type": "code",
   "execution_count": 326,
   "metadata": {},
   "outputs": [
    {
     "data": {
      "text/plain": [
       "(4033, 4033)"
      ]
     },
     "execution_count": 326,
     "metadata": {},
     "output_type": "execute_result"
    }
   ],
   "source": [
    "Ng = 64 #number of points\n",
    "LL = 1.0#2 * np.pi #interval of data\n",
    "k = np.asarray(list(np.arange(0, Ng // 2,1/Ng)) + [0] + list(np.arange(-Ng // 2 + 1,0,1/Ng)))\n",
    "[Kx,Ky]=np.array( np.meshgrid ( k , k ,indexing ='ij') , dtype = int )\n",
    "f = lambda x: np.sin((2*np.pi/LL)*x)\n",
    "df_analytical = lambda x: (2*np.pi/LL)*np.cos((2*np.pi/LL)*x)\n",
    "f(Kx).shape"
   ]
  },
  {
   "cell_type": "code",
   "execution_count": 327,
   "metadata": {},
   "outputs": [
    {
     "data": {
      "text/plain": [
       "(6.283185307179586, 6.283185307179586, 31, -31)"
      ]
     },
     "execution_count": 327,
     "metadata": {},
     "output_type": "execute_result"
    }
   ],
   "source": [
    "np.max(df_analytical(Kx)),np.min(df_analytical(Kx)),np.max(Kx),np.min(Kx)"
   ]
  },
  {
   "cell_type": "markdown",
   "metadata": {},
   "source": [
    "https://stackoverflow.com/questions/29189885/finding-the-derivative-of-a-2d-function-using-fft-properties"
   ]
  },
  {
   "cell_type": "markdown",
   "metadata": {},
   "source": [
    "https://math.stackexchange.com/questions/1473277/taking-partial-derivative-via-fourier-transform-using-matlab"
   ]
  },
  {
   "cell_type": "code",
   "execution_count": 328,
   "metadata": {},
   "outputs": [],
   "source": [
    "def ntuple(n):\n",
    "    def parse(x):\n",
    "        if isinstance(x, container_abcs.Iterable) and not isinstance(x, str):\n",
    "            return x\n",
    "        return tuple(repeat(x, n))\n",
    "\n",
    "    return parse\n",
    "\n",
    "def make_kernel(mode, d):\n",
    "    if mode == 'sobel':\n",
    "        hxyz = torch.tensor([1, 2, 1], dtype=torch.float32)\n",
    "    elif mode == 'scharr':\n",
    "        hxyz = torch.tensor([3, 10, 3], dtype=torch.float32)\n",
    "    else:\n",
    "        raise ValueError('Not valid mode')\n",
    "    hpxyz = torch.tensor([-1, 0, 1], dtype=torch.float32)\n",
    "    if d == 1:\n",
    "        kernel = torch.zeros((1, 3), dtype=torch.float32)\n",
    "        for i in range(3):\n",
    "            kernel[0][i] = hpxyz[i]\n",
    "        kernel = kernel / kernel.abs().sum(dim=[-1]).view(-1, 1)\n",
    "    elif d == 2:\n",
    "        kernel = torch.zeros((2, 3, 3), dtype=torch.float32)\n",
    "        for i in range(3):\n",
    "            for j in range(3):\n",
    "                kernel[0][i][j] = hpxyz[i] * hxyz[j]\n",
    "                kernel[1][i][j] = hxyz[i] * hpxyz[j]\n",
    "        kernel = kernel / kernel.abs().sum(dim=[-2, -1]).view(-1, 1, 1)\n",
    "    elif d == 3:\n",
    "        kernel = torch.zeros((3, 3, 3, 3), dtype=torch.float32)\n",
    "        for i in range(3):\n",
    "            for j in range(3):\n",
    "                for k in range(3):\n",
    "                    kernel[0][i][j][k] = hpxyz[i] * hxyz[j] * hxyz[k]\n",
    "                    kernel[1][i][j][k] = hxyz[i] * hpxyz[j] * hxyz[k]\n",
    "                    kernel[2][i][j][k] = hxyz[i] * hxyz[j] * hpxyz[k]\n",
    "        kernel = kernel / kernel.abs().sum(dim=[-3, -2, -1]).view(-1, 1, 1, 1)\n",
    "    return kernel"
   ]
  },
  {
   "cell_type": "code",
   "execution_count": 329,
   "metadata": {},
   "outputs": [
    {
     "name": "stdout",
     "output_type": "stream",
     "text": [
      "Mean FFT derivative error: (X: 1.987747087057671e-15)\n",
      "Mean Finite derivative error: (X: 0.001002633409686339)\n",
      "Max FFT derivative error: (X: 1.2989609388114332e-14)\n",
      "Max Finite derivative error: (X: 0.0016056299209594727)\n"
     ]
    }
   ],
   "source": [
    "# 1 D\n",
    "N = 64 #number of points\n",
    "L = 2 * np.pi #interval of data\n",
    "x = np.arange(0.0, L, L/float(N)) #this does not include the endpoint\n",
    "dx = L/float(N)\n",
    "k=np.fft.fftfreq(N,1/N)\n",
    "#k= np.asarray(list(range(0, N // 2)) + [0] + list(range(-N // 2 + 1,0)))\n",
    "k = (2 * np.pi / L)*k\n",
    "\n",
    "X=x\n",
    "data_spacedomain = np.sin(X*2*np.pi/L)\n",
    "dx_analytical=np.cos(X*2*np.pi/L)*2*np.pi/L\n",
    "\n",
    "#% Compute 2D FFT\n",
    "data_wavenumberdomain = np.fft.fftn(data_spacedomain)\n",
    "\n",
    "#% Compute grid of wavenumbers\n",
    "KX=k#KX, KY = np.meshgrid (k, k , indexing ='ij');\n",
    "\n",
    "#% Compute 2D derivative\n",
    "data_wavenumberdomain_differentiated_x =  1j*KX*data_wavenumberdomain\n",
    "#% Convert back to space domain\n",
    "data_spacedomain_differentiated_x = np.real(np.fft.ifftn(data_wavenumberdomain_differentiated_x))\n",
    "\n",
    "C = 1\n",
    "D = 1\n",
    "mode = 'sobel'\n",
    "padding_mode = 'none'\n",
    "data = torch.tensor(data_spacedomain, dtype=torch.float32).view(1,1,N)\n",
    "kernel = make_kernel(mode, D)\n",
    "kernel = kernel.unsqueeze(1).repeat(C, 1, 1)\n",
    "if padding_mode == 'replicate':\n",
    "    padding = tuple(x for x in reversed(ntuple(D)(kernel.size(-1) // 2)) for _ in range(2))\n",
    "    finite_derivative = F.conv1d(F.pad(data, padding, 'replicate'), kernel, padding=0, groups=C) / dx\n",
    "elif padding_mode == 'reflect':\n",
    "    padding = tuple(x for x in reversed(ntuple(D)(kernel.size(-1) // 2)) for _ in range(2))\n",
    "    finite_derivative = F.conv1d(F.pad(data, padding, 'reflect'), kernel, padding=0, groups=C) / dx\n",
    "elif padding_mode == 'zeros':\n",
    "    finite_derivative = F.conv1d(data, kernel, padding=1, groups=C) / dx\n",
    "elif padding_mode == 'none':\n",
    "    finite_derivative = F.conv1d(data, kernel, padding=0, groups=C) / dx\n",
    "else:\n",
    "    raise ValueError('Not valid padding mode')\n",
    "finite_derivative_x = finite_derivative[0,0].numpy()\n",
    "\n",
    "L1_FFT_x = np.abs(data_spacedomain_differentiated_x-dx_analytical)\n",
    "\n",
    "if padding_mode == 'none':\n",
    "    L1_Finite_x = np.abs(finite_derivative_x-dx_analytical[1:-1])\n",
    "else:\n",
    "    L1_Finite_x = np.abs(finite_derivative_x-dx_analytical)\n",
    "\n",
    "print('Mean FFT derivative error: (X: {})'.format(np.mean(L1_FFT_x)))\n",
    "print('Mean Finite derivative error: (X: {})'.format(np.mean(L1_Finite_x)))\n",
    "print('Max FFT derivative error: (X: {})'.format(np.max(L1_FFT_x)))\n",
    "print('Max Finite derivative error: (X: {})'.format(np.max(L1_Finite_x)))"
   ]
  },
  {
   "cell_type": "code",
   "execution_count": 330,
   "metadata": {},
   "outputs": [
    {
     "data": {
      "image/png": "[encoded data removed]",
      "text/plain": [
       "<Figure size 432x288 with 1 Axes>"
      ]
     },
     "metadata": {
      "needs_background": "light"
     },
     "output_type": "display_data"
    }
   ],
   "source": [
    "plt.plot(x,data_spacedomain,color='k',LineWidth=2,label='Signal')\n",
    "plt.plot(x,dx_analytical,color='b',LineWidth=2,label='True Derivative')\n",
    "plt.plot(x,data_spacedomain_differentiated_x,'--',color='r',LineWidth=1.5,label='FFT derivative')\n",
    "if padding_mode == 'none':\n",
    "    plt.plot(x[1:-1],finite_derivative_x,'--',color='g',LineWidth=1.5,label='Finite Derivative')\n",
    "else:\n",
    "    plt.plot(x,finite_derivative_x,'--',color='g',LineWidth=1.5,label='Finite Derivative')\n",
    "plt.legend()\n",
    "plt.show()"
   ]
  },
  {
   "cell_type": "code",
   "execution_count": 331,
   "metadata": {},
   "outputs": [
    {
     "data": {
      "image/png": "[encoded data removed]",
      "text/plain": [
       "<Figure size 432x288 with 1 Axes>"
      ]
     },
     "metadata": {
      "needs_background": "light"
     },
     "output_type": "display_data"
    }
   ],
   "source": [
    "plt.hist((data_spacedomain_differentiated_x-dx_analytical).ravel())\n",
    "pass"
   ]
  },
  {
   "cell_type": "code",
   "execution_count": 332,
   "metadata": {},
   "outputs": [
    {
     "data": {
      "image/png": "[encoded data removed]",
      "text/plain": [
       "<Figure size 432x288 with 1 Axes>"
      ]
     },
     "metadata": {
      "needs_background": "light"
     },
     "output_type": "display_data"
    }
   ],
   "source": [
    "if padding_mode == 'none':\n",
    "    plt.figure()\n",
    "    plt.hist((finite_derivative_x-dx_analytical[1:-1]).ravel())\n",
    "else:\n",
    "    plt.figure()\n",
    "    plt.hist((finite_derivative_x-dx_analytical).ravel())    \n",
    "pass"
   ]
  },
  {
   "cell_type": "code",
   "execution_count": 333,
   "metadata": {},
   "outputs": [
    {
     "name": "stdout",
     "output_type": "stream",
     "text": [
      "Mean FFT derivative error: (X: 5.072848839968119e-15, Y:0.0)\n",
      "Mean Finite derivative error: (X: 0.00025326654896901086, Y:0.0)\n",
      "Max FFT derivative error: (X: 2.4424906541753444e-14, Y:0.0)\n",
      "Max Finite derivative error: (X: 0.00040155649185180664, Y:0.0)\n"
     ]
    }
   ],
   "source": [
    "# n D (2D)\n",
    "N = 128 #number of points\n",
    "L = 2 * np.pi #interval of data\n",
    "indexing = 'ij'\n",
    "x = np.arange(0.0, L, L/float(N)) #this does not include the endpoint\n",
    "dx = L/float(N)\n",
    "k=np.fft.fftfreq(N,1/N)\n",
    "k = (2 * np.pi / L)*k\n",
    "\n",
    "X,Y = np.meshgrid(x, x, indexing=indexing)\n",
    "data_spacedomain = np.sin(X*2*np.pi/L)\n",
    "dx_analytical=np.cos(X*2*np.pi/L)*2*np.pi/L\n",
    "dy_analytical=np.zeros(dx_analytical.shape)\n",
    "#% Compute 2D FFT\n",
    "data_wavenumberdomain = np.fft.fftn(data_spacedomain)\n",
    "#% Compute grid of wavenumbers\n",
    "KX, KY = np.meshgrid (k, k, indexing=indexing)\n",
    "\n",
    "#% Compute 2D derivative\n",
    "data_wavenumberdomain_differentiated_x =  1j*KX*data_wavenumberdomain\n",
    "data_wavenumberdomain_differentiated_y =  1j*KY*data_wavenumberdomain\n",
    "#% Convert back to space domain\n",
    "data_spacedomain_differentiated_x = np.real(np.fft.ifftn(data_wavenumberdomain_differentiated_x))\n",
    "data_spacedomain_differentiated_y = np.real(np.fft.ifftn(data_wavenumberdomain_differentiated_y))\n",
    "\n",
    "C = 1\n",
    "D = 2\n",
    "mode = 'sobel'\n",
    "padding_mode = 'none'\n",
    "data = torch.tensor(data_spacedomain, dtype=torch.float32).view(1,1,N,N)\n",
    "kernel = make_kernel(mode, D)\n",
    "kernel = kernel.unsqueeze(1).repeat(C, 1, 1, 1)\n",
    "if padding_mode == 'replicate':\n",
    "    padding = tuple(x for x in reversed(ntuple(D)(kernel.size(-1) // 2)) for _ in range(2))\n",
    "    finite_derivative = F.conv2d(F.pad(data, padding, 'replicate'), kernel, padding=0, groups=C) / dx\n",
    "elif padding_mode == 'reflect':\n",
    "    padding = tuple(x for x in reversed(ntuple(D)(kernel.size(-1) // 2)) for _ in range(2))\n",
    "    finite_derivative = F.conv2d(F.pad(data, padding, 'reflect'), kernel, padding=0, groups=C) / dx\n",
    "elif padding_mode == 'zeros':\n",
    "    finite_derivative = F.conv2d(data, kernel, padding=1, groups=C) / dx\n",
    "elif padding_mode == 'none':\n",
    "    finite_derivative = F.conv2d(data, kernel, padding=0, groups=C) / dx\n",
    "else:\n",
    "    raise ValueError('Not valid padding mode')\n",
    "finite_derivative_x = finite_derivative[0,0].numpy()\n",
    "finite_derivative_y = finite_derivative[0,1].numpy()\n",
    "\n",
    "L1_FFT_x = np.abs(data_spacedomain_differentiated_x-dx_analytical)\n",
    "L1_FFT_y = np.abs(data_spacedomain_differentiated_y-dy_analytical)\n",
    "\n",
    "if padding_mode == 'none':\n",
    "    L1_Finite_x = np.abs(finite_derivative_x-dx_analytical[1:-1,1:-1])\n",
    "    L1_Finite_y = np.abs(finite_derivative_y-dy_analytical[1:-1,1:-1])\n",
    "else:\n",
    "    L1_Finite_x = np.abs(finite_derivative_x-dx_analytical)\n",
    "    L1_Finite_y = np.abs(finite_derivative_y-dy_analytical)\n",
    "\n",
    "print('Mean FFT derivative error: (X: {}, Y:{})'.format(np.mean(L1_FFT_x), np.mean(L1_FFT_y)))\n",
    "print('Mean Finite derivative error: (X: {}, Y:{})'.format(np.mean(L1_Finite_x), np.mean(L1_Finite_y)))\n",
    "print('Max FFT derivative error: (X: {}, Y:{})'.format(np.max(L1_FFT_x), np.max(L1_FFT_y)))\n",
    "print('Max Finite derivative error: (X: {}, Y:{})'.format(np.max(L1_Finite_x), np.max(L1_Finite_y)))"
   ]
  },
  {
   "cell_type": "code",
   "execution_count": 334,
   "metadata": {},
   "outputs": [
    {
     "data": {
      "image/png": "[encoded data removed]",
      "text/plain": [
       "<Figure size 432x288 with 1 Axes>"
      ]
     },
     "metadata": {
      "needs_background": "light"
     },
     "output_type": "display_data"
    }
   ],
   "source": [
    "plt.hist((data_spacedomain_differentiated_x-dx_analytical).ravel())\n",
    "pass"
   ]
  },
  {
   "cell_type": "code",
   "execution_count": 335,
   "metadata": {},
   "outputs": [
    {
     "data": {
      "image/png": "[encoded data removed]",
      "text/plain": [
       "<Figure size 432x288 with 1 Axes>"
      ]
     },
     "metadata": {
      "needs_background": "light"
     },
     "output_type": "display_data"
    },
    {
     "data": {
      "image/png": "[encoded data removed]",
      "text/plain": [
       "<Figure size 432x288 with 1 Axes>"
      ]
     },
     "metadata": {
      "needs_background": "light"
     },
     "output_type": "display_data"
    }
   ],
   "source": [
    "if padding_mode == 'none':\n",
    "    plt.figure()\n",
    "    plt.hist((finite_derivative_x-dx_analytical[1:-1,1:-1]).ravel())\n",
    "    plt.figure()\n",
    "    plt.hist((finite_derivative_y-dy_analytical[1:-1,1:-1]).ravel())    \n",
    "else:\n",
    "    plt.figure()\n",
    "    plt.hist((finite_derivative_x-dx_analytical).ravel())\n",
    "    plt.figure()\n",
    "    plt.hist((finite_derivative_y-dy_analytical).ravel())\n",
    "pass"
   ]
  },
  {
   "cell_type": "code",
   "execution_count": 336,
   "metadata": {},
   "outputs": [
    {
     "name": "stdout",
     "output_type": "stream",
     "text": [
      "Mean FFT derivative error: (X: 5.839559771462585e-15, Y:5.553467124713489e-15, Z:0.0)\n",
      "Mean Finite derivative error: (X: 0.00025328805611142486, Y:0.0002532861655453965, Z:0.0)\n",
      "Max FFT derivative error: (X: 2.786659791809143e-14, Y:2.842170943040401e-14, Z:0.0)\n",
      "Max Finite derivative error: (X: 0.0004024505615234375, Y:0.00040215253829956055, Z:0.0)\n"
     ]
    }
   ],
   "source": [
    "# n D (3D)\n",
    "N = 128 #number of points\n",
    "L = 2 * np.pi #interval of data\n",
    "indexing = 'ij'\n",
    "x = np.arange(0.0, L, L/float(N)) #this does not include the endpoint\n",
    "dx = L/float(N)\n",
    "k=np.fft.fftfreq(N,1/N)\n",
    "k = (2 * np.pi / L)*k\n",
    "\n",
    "X,Y,Z = np.meshgrid (x, x, x, indexing=indexing)\n",
    "data_spacedomain = np.sin(X*2*np.pi/L) + np.sin(Y*2*np.pi/L)\n",
    "dx_analytical=np.cos(X*2*np.pi/L)*2*np.pi/L\n",
    "dy_analytical=np.cos(Y*2*np.pi/L)*2*np.pi/L\n",
    "dz_analytical=np.zeros(dx_analytical.shape)\n",
    "#% Compute 2D FFT\n",
    "data_wavenumberdomain = np.fft.fftn(data_spacedomain)\n",
    "#% Compute grid of wavenumbers\n",
    "KX, KY, KZ = np.meshgrid(k, k, k, indexing=indexing)\n",
    "\n",
    "#% Compute 2D derivative\n",
    "data_wavenumberdomain_differentiated_x = 1j*KX*data_wavenumberdomain\n",
    "data_wavenumberdomain_differentiated_y = 1j*KY*data_wavenumberdomain\n",
    "data_wavenumberdomain_differentiated_z = 1j*KZ*data_wavenumberdomain\n",
    "#% Convert back to space domain\n",
    "data_spacedomain_differentiated_x = np.real(np.fft.ifftn(data_wavenumberdomain_differentiated_x))\n",
    "data_spacedomain_differentiated_y = np.real(np.fft.ifftn(data_wavenumberdomain_differentiated_y))\n",
    "data_spacedomain_differentiated_z = np.real(np.fft.ifftn(data_wavenumberdomain_differentiated_z))\n",
    "\n",
    "C = 1\n",
    "D = 3\n",
    "mode = 'sobel'\n",
    "padding_mode = 'none'\n",
    "data = torch.tensor(data_spacedomain, dtype=torch.float32).view(1,1,N,N,N)\n",
    "kernel = make_kernel(mode, D)\n",
    "kernel = kernel.unsqueeze(1).repeat(C, 1, 1, 1, 1)\n",
    "if padding_mode == 'replicate':\n",
    "    padding = tuple(x for x in reversed(ntuple(D)(kernel.size(-1) // 2)) for _ in range(2))\n",
    "    finite_derivative = F.conv3d(F.pad(data, padding, 'replicate'), kernel, padding=0, groups=C) / dx\n",
    "elif padding_mode == 'zeros':\n",
    "    finite_derivative = F.conv3d(data, kernel, padding=1, groups=C) / dx\n",
    "elif padding_mode == 'none':\n",
    "    finite_derivative = F.conv3d(data, kernel, padding=0, groups=C) / dx\n",
    "else:\n",
    "    raise ValueError('Not valid padding mode')\n",
    "finite_derivative_x = finite_derivative[0,0].numpy()\n",
    "finite_derivative_y = finite_derivative[0,1].numpy()\n",
    "finite_derivative_z = finite_derivative[0,2].numpy()\n",
    "\n",
    "L1_FFT_x = np.abs(data_spacedomain_differentiated_x-dx_analytical)\n",
    "L1_FFT_y = np.abs(data_spacedomain_differentiated_y-dy_analytical)\n",
    "L1_FFT_z = np.abs(data_spacedomain_differentiated_z-dz_analytical)\n",
    "\n",
    "if padding_mode == 'none':\n",
    "    L1_Finite_x = np.abs(finite_derivative_x-dx_analytical[1:-1,1:-1,1:-1])\n",
    "    L1_Finite_y = np.abs(finite_derivative_y-dy_analytical[1:-1,1:-1,1:-1])\n",
    "    L1_Finite_z = np.abs(finite_derivative_z-dz_analytical[1:-1,1:-1,1:-1])\n",
    "else:\n",
    "    L1_Finite_x = np.abs(finite_derivative_x-dx_analytical)\n",
    "    L1_Finite_y = np.abs(finite_derivative_y-dy_analytical)\n",
    "    L1_Finite_z = np.abs(finite_derivative_z-dz_analytical)\n",
    "\n",
    "print('Mean FFT derivative error: (X: {}, Y:{}, Z:{})'.format(np.mean(L1_FFT_x), np.mean(L1_FFT_y), np.mean(L1_FFT_z)))\n",
    "print('Mean Finite derivative error: (X: {}, Y:{}, Z:{})'.format(np.mean(L1_Finite_x), np.mean(L1_Finite_y), np.mean(L1_Finite_z)))\n",
    "print('Max FFT derivative error: (X: {}, Y:{}, Z:{})'.format(np.max(L1_FFT_x), np.max(L1_FFT_y), np.max(L1_FFT_z)))\n",
    "print('Max Finite derivative error: (X: {}, Y:{}, Z:{})'.format(np.max(L1_Finite_x), np.max(L1_Finite_y), np.max(L1_Finite_z)))"
   ]
  },
  {
   "cell_type": "code",
   "execution_count": 337,
   "metadata": {},
   "outputs": [
    {
     "data": {
      "image/png": "[encoded data removed]",
      "text/plain": [
       "<Figure size 432x288 with 1 Axes>"
      ]
     },
     "metadata": {
      "needs_background": "light"
     },
     "output_type": "display_data"
    }
   ],
   "source": [
    "plt.hist((data_spacedomain_differentiated_x-dx_analytical).ravel())\n",
    "pass"
   ]
  },
  {
   "cell_type": "code",
   "execution_count": 338,
   "metadata": {},
   "outputs": [
    {
     "data": {
      "image/png": "[encoded data removed]",
      "text/plain": [
       "<Figure size 432x288 with 1 Axes>"
      ]
     },
     "metadata": {
      "needs_background": "light"
     },
     "output_type": "display_data"
    },
    {
     "data": {
      "image/png": "[encoded data removed]",
      "text/plain": [
       "<Figure size 432x288 with 1 Axes>"
      ]
     },
     "metadata": {
      "needs_background": "light"
     },
     "output_type": "display_data"
    },
    {
     "data": {
      "image/png": "[encoded data removed]",
      "text/plain": [
       "<Figure size 432x288 with 1 Axes>"
      ]
     },
     "metadata": {
      "needs_background": "light"
     },
     "output_type": "display_data"
    }
   ],
   "source": [
    "if padding_mode == 'none':\n",
    "    plt.figure()\n",
    "    plt.hist((finite_derivative_x-dx_analytical[1:-1,1:-1,1:-1]).ravel())\n",
    "    plt.figure()\n",
    "    plt.hist((finite_derivative_y-dy_analytical[1:-1,1:-1,1:-1]).ravel())\n",
    "    plt.figure()\n",
    "    plt.hist((finite_derivative_z-dz_analytical[1:-1,1:-1,1:-1]).ravel())\n",
    "else:\n",
    "    plt.figure()\n",
    "    plt.hist((finite_derivative_x-dx_analytical).ravel())\n",
    "    plt.figure()\n",
    "    plt.hist((finite_derivative_y-dy_analytical).ravel())\n",
    "    plt.figure()\n",
    "    plt.hist((finite_derivative_z-dz_analytical).ravel())\n",
    "pass"
   ]
  },
  {
   "cell_type": "code",
   "execution_count": null,
   "metadata": {},
   "outputs": [],
   "source": []
  }
 ],
 "metadata": {
  "kernelspec": {
   "display_name": "Python 3",
   "language": "python",
   "name": "python3"
  },
  "language_info": {
   "codemirror_mode": {
    "name": "ipython",
    "version": 3
   },
   "file_extension": ".py",
   "mimetype": "text/x-python",
   "name": "python",
   "nbconvert_exporter": "python",
   "pygments_lexer": "ipython3",
   "version": "3.7.7"
  }
 },
 "nbformat": 4,
 "nbformat_minor": 2
}
